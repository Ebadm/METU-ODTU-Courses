{
  "cells": [
    {
      "cell_type": "markdown",
      "metadata": {},
      "source": [
        "\n",
        "# Task 2 & 3: CENG414 homework 3"
      ]
    },
    {
      "cell_type": "markdown",
      "metadata": {},
      "source": [
        "### Import libraries and get data into np array"
      ]
    },
    {
      "cell_type": "code",
      "execution_count": 347,
      "metadata": {
        "trusted": true
      },
      "outputs": [],
      "source": [
        "import numpy as np\n",
        "import pandas as pd\n",
        "import random\n",
        "import matplotlib.pyplot as plt\n",
        "import seaborn as sns\n",
        "from sklearn.manifold import TSNE"
      ]
    },
    {
      "cell_type": "markdown",
      "metadata": {},
      "source": [
        "### Actual k-means clustering function after initialization is done"
      ]
    },
    {
      "cell_type": "code",
      "execution_count": 348,
      "metadata": {
        "trusted": true
      },
      "outputs": [],
      "source": [
        "def calc_distance(X1, X2):\n",
        "    #Remove nan values when calculating euc distance\n",
        "    indices_1 = np.isnan(X1)\n",
        "    indices_2 = np.isnan(X2)\n",
        "    indices_total = indices_1 + indices_2\n",
        "    X1 = X1[~indices_total]\n",
        "    X2 = X2[~indices_total]\n",
        "    return(sum((X1 - X2)**2))**0.5\n",
        "\n",
        "def cluster_kmeans(X,cluster,centroids):\n",
        "\n",
        "    diff = 1\n",
        "    while diff:\n",
        "        # for each observation\n",
        "        for i, row in enumerate(X):\n",
        "\n",
        "            mn_dist = float('inf')\n",
        "            # dist of the point from all centroids\n",
        "            for idx, centroid in enumerate(centroids):\n",
        "                d = calc_distance(centroid, row)\n",
        "\n",
        "                # store closest centroid \n",
        "                if mn_dist > d:\n",
        "                    mn_dist = d\n",
        "                    cluster[i] = idx\n",
        "\n",
        "        new_centroids = pd.DataFrame(X).groupby(by=cluster).mean().values   #start new iteration\n",
        "        # if centroids are same then leave\n",
        "        if np.count_nonzero(centroids-new_centroids) == 0:\n",
        "            diff = 0\n",
        "        else:\n",
        "            centroids = new_centroids\n",
        "\n",
        "    return centroids, cluster  "
      ]
    },
    {
      "cell_type": "markdown",
      "metadata": {},
      "source": [
        "### K-means algorithm implementation"
      ]
    },
    {
      "cell_type": "markdown",
      "metadata": {},
      "source": [
        "#### 3 Different initialization options for centroids of clusters: Random, Manual, Average"
      ]
    },
    {
      "cell_type": "code",
      "execution_count": 349,
      "metadata": {
        "trusted": true
      },
      "outputs": [],
      "source": [
        "def kmeans(k, init, data,manual_init = None ):\n",
        "  \n",
        "    cluster = np.zeros(data.shape[0])                        #initialise all to 0\n",
        "\n",
        "    if (init == \"Random\"):\n",
        "        # select k random centroids\n",
        "        random_indices = np.random.choice(len(data), size=k, replace=False)  #get random initial index\n",
        "        centroids = data[random_indices, :]  #get 3 centroids, 12 row each\n",
        "\n",
        "    elif (init == \"Manual\"):\n",
        "        centroids = np.array(manual_init)\n",
        "\n",
        "    elif (init == \"Average\"):\n",
        "        new_data = np.array_split(data, k)                     #split dataset to k sets\n",
        "        centroids = []\n",
        "        for i in range(len(new_data)):\n",
        "            avg_col = np.nanmean(new_data[i],axis=0)        #get average of each column \n",
        "            centroids.append(avg_col)                       #Cluster i's centroid is appended\n",
        "\n",
        "    else:\n",
        "        print(\"Error!\")\n",
        "\n",
        "    centroids, cluster = cluster_kmeans(data,cluster,centroids)\n",
        "    return centroids, cluster  "
      ]
    },
    {
      "cell_type": "markdown",
      "metadata": {},
      "source": [
        "### Code to Calculate DUNN Index of a value of k and it's clustering."
      ]
    },
    {
      "cell_type": "code",
      "execution_count": 350,
      "metadata": {
        "trusted": true
      },
      "outputs": [],
      "source": [
        "def findEucDistance(x1, y1):\n",
        "    distance = 0\n",
        "    for i in range(len(x1)):\n",
        "        distance = distance + (x1[i] - y1[i])**2\n",
        "    return distance**0.5 "
      ]
    },
    {
      "cell_type": "code",
      "execution_count": 351,
      "metadata": {
        "trusted": true
      },
      "outputs": [],
      "source": [
        "def calcDunnIndex(points, cluster):\n",
        "\n",
        "    numer = float('inf')\n",
        "    for c1 in cluster:\n",
        "        for c2 in cluster: # for each cluster vs cluster\n",
        "            if (c1 == c2).all(): #ignore same cluster's comparison with itself\n",
        "                continue\n",
        "            intercluster_distance = findEucDistance(c1, c2)\n",
        "            numer = min(numer, intercluster_distance) # find distance between centroids\n",
        "            \n",
        "    denom = 0\n",
        "    for clst in cluster: # for each cluster\n",
        "        for p in points:\n",
        "            for t in points: # for each point vs point\n",
        "                if (t == p).all():\n",
        "                     continue           #ignore point's comparison with itself\n",
        "                intracluster_distance = findEucDistance(t, p)\n",
        "                denom = max(denom, intracluster_distance)\n",
        "                \n",
        "    return numer/denom\n"
      ]
    },
    {
      "cell_type": "markdown",
      "metadata": {},
      "source": [
        "## Now main:"
      ]
    },
    {
      "cell_type": "code",
      "execution_count": 352,
      "metadata": {
        "trusted": true
      },
      "outputs": [],
      "source": [
        "data = np.load(\"dataset.npy\")"
      ]
    },
    {
      "cell_type": "markdown",
      "metadata": {},
      "source": [
        "#### FILL missing values with the mean value of that attribute/column"
      ]
    },
    {
      "cell_type": "code",
      "execution_count": 353,
      "metadata": {},
      "outputs": [],
      "source": [
        "column_means = np.nanmean(data,axis=0)\n",
        "\n",
        "for i,row in enumerate(data):\n",
        "    for j,cell in enumerate(row):\n",
        "        if (np.isnan(cell)):\n",
        "            data[i][j] = column_means[j]\n",
        "df = pd.DataFrame(data)"
      ]
    },
    {
      "cell_type": "markdown",
      "metadata": {},
      "source": [
        "#### Algorithm run with k values between [2,10]. DUNN Index for each K is saved."
      ]
    },
    {
      "cell_type": "code",
      "execution_count": 354,
      "metadata": {},
      "outputs": [],
      "source": [
        "dunnIndex_values = []\n",
        "for k in range(2,11):\n",
        "    init = \"Random\"\n",
        "    centroids, clusters = kmeans(k,init,data)\n",
        "    dunnIndex_values.append(calcDunnIndex(data,centroids))"
      ]
    },
    {
      "cell_type": "markdown",
      "metadata": {},
      "source": [
        "#### Draw a \"k versus Dunn index\" plot."
      ]
    },
    {
      "cell_type": "code",
      "execution_count": 355,
      "metadata": {
        "trusted": true
      },
      "outputs": [
        {
          "data": {
            "image/png": "[encoded data removed]",
            "text/plain": [
              "<Figure size 432x288 with 1 Axes>"
            ]
          },
          "metadata": {
            "needs_background": "light"
          },
          "output_type": "display_data"
        }
      ],
      "source": [
        "sns.lineplot(x=range(2,11), y=dunnIndex_values, marker='o')\n",
        "plt.xlabel('k')\n",
        "plt.ylabel('DUNN INDEX')\n",
        "plt.show()"
      ]
    },
    {
      "cell_type": "markdown",
      "metadata": {},
      "source": [
        "Since DUNN Index is the ratio of smallest inter-cluster distance and the largest intra-cluster distance, And we should minimize the inter-cluster distance function, which is to find the distance between two closest clusters, and on the other hand, maximize the intra-cluster distance function, which is to find the cluster with the largest diameter.\n",
        "We can conclude that the large values of Dunn index represent better clustering.\n",
        "Hence, K = 2, provides the best clustering for this dataset as it has the highest DUNN INDEX value."
      ]
    },
    {
      "cell_type": "code",
      "execution_count": 356,
      "metadata": {},
      "outputs": [
        {
          "name": "stdout",
          "output_type": "stream",
          "text": [
            "[0. 0. 0. 0. 1. 0. 0. 1. 0. 0. 0. 0. 0. 0. 0. 0. 0. 0. 0. 1. 1. 1. 0. 1.\n",
            " 1. 1. 0. 0. 0. 0. 0. 0. 0. 0. 0. 0. 0. 0. 0. 1. 1. 0. 0. 1. 0. 0. 0. 1.\n",
            " 0. 0. 0. 0. 1. 1. 0. 0. 0. 0. 0. 1. 1. 1. 1. 1. 1. 1. 1. 1. 1. 1. 0. 1.\n",
            " 1. 0. 0. 1. 1. 1. 1. 1. 1. 1. 1. 1. 1. 1. 1. 1. 1. 1. 1. 1. 1. 1. 1. 0.\n",
            " 1. 1. 1. 1. 1. 1. 1. 1. 1. 1. 1. 1. 1. 1. 1. 1. 1. 1. 1. 1. 1. 1. 1. 1.\n",
            " 1. 1. 1. 1. 1. 1. 1. 1. 1. 1. 1. 1. 1. 1. 1. 1. 1. 1. 1. 1. 1. 1. 1. 1.\n",
            " 1. 1. 1. 1. 1. 1. 1. 1. 1. 1. 1. 1. 1. 0. 1. 1. 1. 1. 1. 1. 1. 1. 1. 1.\n",
            " 1. 1. 1. 1. 1. 1. 1. 1. 1. 1.]\n"
          ]
        }
      ],
      "source": [
        "k = 2\n",
        "init = \"Random\"\n",
        "centroidofClusters, clusters = kmeans(k,init,data)\n",
        "print(clusters)"
      ]
    },
    {
      "cell_type": "markdown",
      "metadata": {},
      "source": [
        "Now we use t-Distributed Stochastic Neighbor Embedding (t-SNE) for dimensionality reduction as it is particularly well suited for the visualization of high-dimensional datasets. \n",
        "It is a probabilistic technique, we run the algorithm on the actual dimensions of data and reduce the dimensions to 2, so we can easily visualise with a 2-D graph."
      ]
    },
    {
      "cell_type": "code",
      "execution_count": 357,
      "metadata": {},
      "outputs": [
        {
          "name": "stdout",
          "output_type": "stream",
          "text": [
            "[t-SNE] Computing 121 nearest neighbors...\n",
            "[t-SNE] Indexed 178 samples in 0.000s...\n",
            "[t-SNE] Computed neighbors for 178 samples in 0.006s...\n",
            "[t-SNE] Computed conditional probabilities for sample 178 / 178\n",
            "[t-SNE] Mean sigma: 68.048926\n",
            "[t-SNE] KL divergence after 250 iterations with early exaggeration: 49.391388\n",
            "[t-SNE] KL divergence after 300 iterations: 0.089413\n"
          ]
        }
      ],
      "source": [
        "tsne = TSNE(n_components=2, verbose=1, perplexity=40, n_iter=300, init='random', learning_rate=200.0)\n",
        "tsne_results = tsne.fit_transform(df)\n",
        "tsne_df_scale = pd.DataFrame(tsne_results, columns=['tsne1', 'tsne2'])"
      ]
    },
    {
      "cell_type": "code",
      "execution_count": 363,
      "metadata": {},
      "outputs": [
        {
          "data": {
            "image/png": "[encoded data removed]",
            "text/plain": [
              "<Figure size 432x288 with 1 Axes>"
            ]
          },
          "metadata": {
            "needs_background": "light"
          },
          "output_type": "display_data"
        }
      ],
      "source": [
        "#plt.scatter(tsne_df_scale['tsne1'],tsne_df_scale['tsne2'],c=clusters,  cmap='rainbow')\n",
        "#Choose K = 2 since we saw it to be the best k\n",
        "sns.scatterplot(\n",
        "    x='tsne1', y='tsne2',\n",
        "    hue = clusters,\n",
        "    palette=sns.color_palette(\"hls\", 2),\n",
        "    data=tsne_df_scale,\n",
        "    legend=\"full\",\n",
        "    alpha=0.3\n",
        ")\n",
        "plt.show()"
      ]
    },
    {
      "cell_type": "markdown",
      "metadata": {},
      "source": [
        "## TASK 3:"
      ]
    },
    {
      "cell_type": "markdown",
      "metadata": {},
      "source": [
        "### Z-Score Normalization and repeating task 2"
      ]
    },
    {
      "cell_type": "markdown",
      "metadata": {},
      "source": [
        "##### 1) Z-Score Normalize the DATA"
      ]
    },
    {
      "cell_type": "code",
      "execution_count": 372,
      "metadata": {},
      "outputs": [],
      "source": [
        "column_means = np.nanmean(data,axis=0)\n",
        "column_std   = np.nanstd(data,axis=0)\n",
        "for i,row in enumerate(data):\n",
        "    for j,cell in enumerate(row):\n",
        "        data[i][j] = (data[i][j]-column_means[j])/column_std[j]\n",
        "\n",
        "df = pd.DataFrame(data)"
      ]
    },
    {
      "cell_type": "markdown",
      "metadata": {},
      "source": [
        "Normalization provides us with a method to transform the source data to another format effectively, although the data still keeps its features, however, we are able to minimize duplicated data. It makes it easier for our application of k-means, as the k-means algorithm gets more effective and efficient.\n",
        "Also because we use Z-score normalization, we are able to take into account outlier datapoints in our dataset."
      ]
    },
    {
      "cell_type": "markdown",
      "metadata": {},
      "source": [
        "##### 2) Repeat Task 2 on normalized Data"
      ]
    },
    {
      "cell_type": "markdown",
      "metadata": {},
      "source": [
        "Get DunnIndex vs K graph"
      ]
    },
    {
      "cell_type": "code",
      "execution_count": 376,
      "metadata": {},
      "outputs": [
        {
          "data": {
            "image/png": "[encoded data removed]",
            "text/plain": [
              "<Figure size 432x288 with 1 Axes>"
            ]
          },
          "metadata": {
            "needs_background": "light"
          },
          "output_type": "display_data"
        }
      ],
      "source": [
        "dunnIndex_values = []\n",
        "for k in range(2,11):\n",
        "    init = \"Random\"\n",
        "    centroids, clusters = kmeans(k,init,data)\n",
        "    dunnIndex_values.append(calcDunnIndex(data,centroids))\n",
        "\n",
        "sns.lineplot(x=range(2,11), y=dunnIndex_values, marker='o')\n",
        "plt.xlabel('k')\n",
        "plt.ylabel('DUNN INDEX')\n",
        "plt.show()"
      ]
    },
    {
      "cell_type": "markdown",
      "metadata": {},
      "source": [
        "### Discussion on DUNN-INDEX vs K graph of Normalized Dataset:"
      ]
    },
    {
      "cell_type": "markdown",
      "metadata": {},
      "source": [
        "The Values of DUNN-INDEX vs K graph are different than what we saw with a non-normalized dataset."
      ]
    },
    {
      "cell_type": "markdown",
      "metadata": {},
      "source": [
        "Now As we can see that K = 2 still has the highest DUNN index. However, K = 3's DUNN INDEX is also very similar so we can classify the data into 3 clusters as well.\n",
        "Almost for all values of K, the DUNN Index Value has increased meaning that there is a better clustering with those number of clusters."
      ]
    },
    {
      "cell_type": "markdown",
      "metadata": {},
      "source": [
        "This helps us conclude that, Standardization prevents datapoints with larger scales from dominating how clusters are defined, giving us more viable options."
      ]
    },
    {
      "cell_type": "markdown",
      "metadata": {},
      "source": [
        "However, it is still important to note that the DUNN index value for K = 2 has fallen from when the dataset was not normalized. It has dropped from around 0.40 in non-normalized dataset for k = 2 to around 0.32 in normalized dataset for k = 2. However it has increased significantly for other values of k."
      ]
    },
    {
      "cell_type": "markdown",
      "metadata": {},
      "source": [
        "Although this difference is not alot, This can be due to this particular dataset and the effects of normalization on it. We can say that from a DUNN-Index point of view for K = 2 dataset without normalization was better. However, Using normalization we have better clustering and more viable options as we can later see in the visualization using t-SNE with K = 3."
      ]
    },
    {
      "cell_type": "markdown",
      "metadata": {},
      "source": [
        "Whole Normalized Dataset visualized using t-SNE"
      ]
    },
    {
      "cell_type": "code",
      "execution_count": 379,
      "metadata": {},
      "outputs": [
        {
          "name": "stdout",
          "output_type": "stream",
          "text": [
            "[t-SNE] Computing 121 nearest neighbors...\n",
            "[t-SNE] Indexed 178 samples in 0.001s...\n",
            "[t-SNE] Computed neighbors for 178 samples in 0.007s...\n",
            "[t-SNE] Computed conditional probabilities for sample 178 / 178\n",
            "[t-SNE] Mean sigma: 1.834354\n",
            "[t-SNE] KL divergence after 250 iterations with early exaggeration: 56.784180\n",
            "[t-SNE] KL divergence after 300 iterations: 0.375500\n"
          ]
        },
        {
          "data": {
            "image/png": "[encoded data removed]",
            "text/plain": [
              "<Figure size 432x288 with 1 Axes>"
            ]
          },
          "metadata": {
            "needs_background": "light"
          },
          "output_type": "display_data"
        }
      ],
      "source": [
        "\n",
        "k = 3\n",
        "init = \"Random\"\n",
        "centroidofClusters, clusters = kmeans(k,init,data)\n",
        "\n",
        "tsne = TSNE(n_components=2, verbose=1, perplexity=40, n_iter=300, init='random', learning_rate=200.0)\n",
        "tsne_results = tsne.fit_transform(df)\n",
        "tsne_df_scale = pd.DataFrame(tsne_results, columns=['tsne1', 'tsne2'])\n",
        "\n",
        "sns.scatterplot(\n",
        "    x='tsne1', y='tsne2',\n",
        "    hue=clusters,\n",
        "    palette=sns.color_palette(\"hls\", k),\n",
        "    data=tsne_df_scale,\n",
        "    legend=\"full\",\n",
        "    alpha=0.3\n",
        ")\n",
        "plt.show()"
      ]
    },
    {
      "cell_type": "markdown",
      "metadata": {},
      "source": [
        "### Further Discussion on Task 3:\n"
      ]
    },
    {
      "cell_type": "markdown",
      "metadata": {},
      "source": [
        "As we can see in this clustering visualization provided by t-SNE dimensionality reduction, There is a clearer and more precise visual 2-D graph to represent these clusters.\n",
        "This is possible due to the normalized data as it has provided us with more viable clustering's k options. The normalization has an effect on efficiency, visualization and clustering viability option for our dataset's clustering using k-means therefore, normalization has had an overall positive effect on the data and has been very useful."
      ]
    },
    {
      "cell_type": "markdown",
      "metadata": {},
      "source": []
    }
  ],
  "metadata": {
    "interpreter": {
      "hash": "a97dfee85535fb1d5b47fe9558cac8ab9061198b8187c5e3fe351ac320e8c61d"
    },
    "kernelspec": {
      "display_name": "Python 3.10.4 64-bit (windows store)",
      "language": "python",
      "name": "python3"
    },
    "language_info": {
      "codemirror_mode": {
        "name": "ipython",
        "version": 3
      },
      "file_extension": ".py",
      "mimetype": "text/x-python",
      "name": "python",
      "nbconvert_exporter": "python",
      "pygments_lexer": "ipython3",
      "version": "3.10.4"
    }
  },
  "nbformat": 4,
  "nbformat_minor": 4
}
